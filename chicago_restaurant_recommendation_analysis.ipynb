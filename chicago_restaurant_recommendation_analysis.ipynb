{
 "cells": [
  {
   "cell_type": "markdown",
   "metadata": {},
   "source": [
    "# An analysis of Chicago's restaurant recommendation dataset"
   ]
  },
  {
   "cell_type": "markdown",
   "metadata": {},
   "source": [
    "The analysis is derived from two datasets. One which has the session/interaction data for each customer and the other with the restaurant details such as the restaurant name and the cuisine that they serve. Here I have tried to analyze each dataset to identify any patterns in the data"
   ]
  },
  {
   "cell_type": "markdown",
   "metadata": {},
   "source": [
    "### Import the necessary libraries"
   ]
  },
  {
   "cell_type": "code",
   "execution_count": 69,
   "metadata": {},
   "outputs": [],
   "source": [
    "import os\n",
    "import pandas as pd"
   ]
  },
  {
   "cell_type": "markdown",
   "metadata": {},
   "source": [
    "### Load the session data"
   ]
  },
  {
   "cell_type": "code",
   "execution_count": 70,
   "metadata": {},
   "outputs": [
    {
     "data": {
      "text/plain": [
       "['session.1996-Q3',\n",
       " 'session.1996-Q4',\n",
       " 'session.1997-Q1',\n",
       " 'session.1997-Q2',\n",
       " 'session.1997-Q3',\n",
       " 'session.1997-Q4',\n",
       " 'session.1998-Q1',\n",
       " 'session.1998-Q2',\n",
       " 'session.1998-Q3',\n",
       " 'session.1998-Q4',\n",
       " 'session.1999-Q1',\n",
       " 'session.1999-Q2']"
      ]
     },
     "execution_count": 70,
     "metadata": {},
     "output_type": "execute_result"
    }
   ],
   "source": [
    "dir_name = os.getcwd()\n",
    "folder_name = 'session'\n",
    "files = os.listdir(os.path.join(dir_name, folder_name))\n",
    "\n",
    "# The list of files has the README included. Let us remove the README from the list of files and sort the file\n",
    "# in ascending order\n",
    "files = sorted([file for file in files if not 'README' in file])\n",
    "files"
   ]
  },
  {
   "cell_type": "code",
   "execution_count": 71,
   "metadata": {},
   "outputs": [
    {
     "data": {
      "text/plain": [
       "63"
      ]
     },
     "execution_count": 71,
     "metadata": {},
     "output_type": "execute_result"
    }
   ],
   "source": [
    "# The number of records in each line is different. So let us find the maximum columns in all the files\n",
    "length_of_columns = []\n",
    "for file in files:\n",
    "    file_path = os.path.join(dir_name, folder_name, file)\n",
    "    df = pd.read_csv(file_path, header=None, sep='\\n')\n",
    "    df = df[0].str.split('\\t', expand=True)\n",
    "    length_of_columns.append(len(df.columns))\n",
    "max_columns = max(length_of_columns)\n",
    "max_columns"
   ]
  },
  {
   "cell_type": "code",
   "execution_count": 72,
   "metadata": {},
   "outputs": [],
   "source": [
    "# Define the columns\n",
    "start_columns = ['date', 'ip', 'entry_point']\n",
    "restaurant_columns = [f'R{i}' for i in range(1, max_columns+1)]\n",
    "columns = start_columns + restaurant_columns"
   ]
  },
  {
   "cell_type": "code",
   "execution_count": 73,
   "metadata": {
    "scrolled": true
   },
   "outputs": [
    {
     "name": "stdout",
     "output_type": "stream",
     "text": [
      "50672\n"
     ]
    },
    {
     "data": {
      "text/html": [
       "<div>\n",
       "<style scoped>\n",
       "    .dataframe tbody tr th:only-of-type {\n",
       "        vertical-align: middle;\n",
       "    }\n",
       "\n",
       "    .dataframe tbody tr th {\n",
       "        vertical-align: top;\n",
       "    }\n",
       "\n",
       "    .dataframe thead th {\n",
       "        text-align: right;\n",
       "    }\n",
       "</style>\n",
       "<table border=\"1\" class=\"dataframe\">\n",
       "  <thead>\n",
       "    <tr style=\"text-align: right;\">\n",
       "      <th></th>\n",
       "      <th>date</th>\n",
       "      <th>ip</th>\n",
       "      <th>entry_point</th>\n",
       "      <th>R1</th>\n",
       "      <th>R2</th>\n",
       "      <th>R3</th>\n",
       "      <th>R4</th>\n",
       "      <th>R5</th>\n",
       "      <th>R6</th>\n",
       "      <th>R7</th>\n",
       "      <th>...</th>\n",
       "      <th>R54</th>\n",
       "      <th>R55</th>\n",
       "      <th>R56</th>\n",
       "      <th>R57</th>\n",
       "      <th>R58</th>\n",
       "      <th>R59</th>\n",
       "      <th>R60</th>\n",
       "      <th>R61</th>\n",
       "      <th>R62</th>\n",
       "      <th>R63</th>\n",
       "    </tr>\n",
       "  </thead>\n",
       "  <tbody>\n",
       "    <tr>\n",
       "      <th>0</th>\n",
       "      <td>07/Sep/1996:12:17:05</td>\n",
       "      <td>www-c09.proxy.gnn.com</td>\n",
       "      <td>0</td>\n",
       "      <td>560L</td>\n",
       "      <td>110L</td>\n",
       "      <td>110</td>\n",
       "      <td>NaN</td>\n",
       "      <td>NaN</td>\n",
       "      <td>NaN</td>\n",
       "      <td>NaN</td>\n",
       "      <td>...</td>\n",
       "      <td>NaN</td>\n",
       "      <td>NaN</td>\n",
       "      <td>NaN</td>\n",
       "      <td>NaN</td>\n",
       "      <td>NaN</td>\n",
       "      <td>NaN</td>\n",
       "      <td>NaN</td>\n",
       "      <td>NaN</td>\n",
       "      <td>NaN</td>\n",
       "      <td>NaN</td>\n",
       "    </tr>\n",
       "    <tr>\n",
       "      <th>1</th>\n",
       "      <td>07/Sep/1996:12:21:57</td>\n",
       "      <td>foley.ripco.com</td>\n",
       "      <td>0</td>\n",
       "      <td>423L</td>\n",
       "      <td>77L</td>\n",
       "      <td>77</td>\n",
       "      <td>NaN</td>\n",
       "      <td>NaN</td>\n",
       "      <td>NaN</td>\n",
       "      <td>NaN</td>\n",
       "      <td>...</td>\n",
       "      <td>NaN</td>\n",
       "      <td>NaN</td>\n",
       "      <td>NaN</td>\n",
       "      <td>NaN</td>\n",
       "      <td>NaN</td>\n",
       "      <td>NaN</td>\n",
       "      <td>NaN</td>\n",
       "      <td>NaN</td>\n",
       "      <td>NaN</td>\n",
       "      <td>NaN</td>\n",
       "    </tr>\n",
       "    <tr>\n",
       "      <th>2</th>\n",
       "      <td>07/Sep/1996:12:23:36</td>\n",
       "      <td>foley.ripco.com</td>\n",
       "      <td>0</td>\n",
       "      <td>633N</td>\n",
       "      <td>633N</td>\n",
       "      <td>159P</td>\n",
       "      <td>159P</td>\n",
       "      <td>475</td>\n",
       "      <td>NaN</td>\n",
       "      <td>NaN</td>\n",
       "      <td>...</td>\n",
       "      <td>NaN</td>\n",
       "      <td>NaN</td>\n",
       "      <td>NaN</td>\n",
       "      <td>NaN</td>\n",
       "      <td>NaN</td>\n",
       "      <td>NaN</td>\n",
       "      <td>NaN</td>\n",
       "      <td>NaN</td>\n",
       "      <td>NaN</td>\n",
       "      <td>NaN</td>\n",
       "    </tr>\n",
       "    <tr>\n",
       "      <th>3</th>\n",
       "      <td>07/Sep/1996:12:25:14</td>\n",
       "      <td>foley.ripco.com</td>\n",
       "      <td>0</td>\n",
       "      <td>441L</td>\n",
       "      <td>537L</td>\n",
       "      <td>537</td>\n",
       "      <td>NaN</td>\n",
       "      <td>NaN</td>\n",
       "      <td>NaN</td>\n",
       "      <td>NaN</td>\n",
       "      <td>...</td>\n",
       "      <td>NaN</td>\n",
       "      <td>NaN</td>\n",
       "      <td>NaN</td>\n",
       "      <td>NaN</td>\n",
       "      <td>NaN</td>\n",
       "      <td>NaN</td>\n",
       "      <td>NaN</td>\n",
       "      <td>NaN</td>\n",
       "      <td>NaN</td>\n",
       "      <td>NaN</td>\n",
       "    </tr>\n",
       "    <tr>\n",
       "      <th>4</th>\n",
       "      <td>07/Sep/1996:15:18:38</td>\n",
       "      <td>pslip103d.egr-ri.ids.net</td>\n",
       "      <td>0</td>\n",
       "      <td>90M</td>\n",
       "      <td>90M</td>\n",
       "      <td>76L</td>\n",
       "      <td>476L</td>\n",
       "      <td>476</td>\n",
       "      <td>NaN</td>\n",
       "      <td>NaN</td>\n",
       "      <td>...</td>\n",
       "      <td>NaN</td>\n",
       "      <td>NaN</td>\n",
       "      <td>NaN</td>\n",
       "      <td>NaN</td>\n",
       "      <td>NaN</td>\n",
       "      <td>NaN</td>\n",
       "      <td>NaN</td>\n",
       "      <td>NaN</td>\n",
       "      <td>NaN</td>\n",
       "      <td>NaN</td>\n",
       "    </tr>\n",
       "  </tbody>\n",
       "</table>\n",
       "<p>5 rows × 66 columns</p>\n",
       "</div>"
      ],
      "text/plain": [
       "                    date                        ip entry_point    R1    R2  \\\n",
       "0  07/Sep/1996:12:17:05      www-c09.proxy.gnn.com           0  560L  110L   \n",
       "1  07/Sep/1996:12:21:57            foley.ripco.com           0  423L   77L   \n",
       "2  07/Sep/1996:12:23:36            foley.ripco.com           0  633N  633N   \n",
       "3  07/Sep/1996:12:25:14            foley.ripco.com           0  441L  537L   \n",
       "4  07/Sep/1996:15:18:38   pslip103d.egr-ri.ids.net           0   90M   90M   \n",
       "\n",
       "     R3    R4   R5   R6   R7  ...  R54  R55  R56  R57  R58  R59 R60 R61 R62  \\\n",
       "0   110   NaN  NaN  NaN  NaN  ...  NaN  NaN  NaN  NaN  NaN  NaN NaN NaN NaN   \n",
       "1    77   NaN  NaN  NaN  NaN  ...  NaN  NaN  NaN  NaN  NaN  NaN NaN NaN NaN   \n",
       "2  159P  159P  475  NaN  NaN  ...  NaN  NaN  NaN  NaN  NaN  NaN NaN NaN NaN   \n",
       "3   537   NaN  NaN  NaN  NaN  ...  NaN  NaN  NaN  NaN  NaN  NaN NaN NaN NaN   \n",
       "4   76L  476L  476  NaN  NaN  ...  NaN  NaN  NaN  NaN  NaN  NaN NaN NaN NaN   \n",
       "\n",
       "  R63  \n",
       "0 NaN  \n",
       "1 NaN  \n",
       "2 NaN  \n",
       "3 NaN  \n",
       "4 NaN  \n",
       "\n",
       "[5 rows x 66 columns]"
      ]
     },
     "execution_count": 73,
     "metadata": {},
     "output_type": "execute_result"
    }
   ],
   "source": [
    "# Load all the files\n",
    "length_of_columns = []\n",
    "file_paths = [os.path.join(dir_name, folder_name, file) for file in files]\n",
    "df_from_each_file = (pd.read_csv(f, sep='\\t', names=columns) for f in file_paths)\n",
    "interactions = pd.concat(df_from_each_file, ignore_index=True)\n",
    "print(len(interactions))\n",
    "interactions.head()"
   ]
  },
  {
   "cell_type": "code",
   "execution_count": 74,
   "metadata": {},
   "outputs": [],
   "source": [
    "# Add the last non NaN value to the end_point column\n",
    "interactions['end_point'] = interactions.ffill(axis=1).iloc[:, -1]"
   ]
  },
  {
   "cell_type": "code",
   "execution_count": 75,
   "metadata": {
    "scrolled": true
   },
   "outputs": [
    {
     "data": {
      "text/html": [
       "<div>\n",
       "<style scoped>\n",
       "    .dataframe tbody tr th:only-of-type {\n",
       "        vertical-align: middle;\n",
       "    }\n",
       "\n",
       "    .dataframe tbody tr th {\n",
       "        vertical-align: top;\n",
       "    }\n",
       "\n",
       "    .dataframe thead th {\n",
       "        text-align: right;\n",
       "    }\n",
       "</style>\n",
       "<table border=\"1\" class=\"dataframe\">\n",
       "  <thead>\n",
       "    <tr style=\"text-align: right;\">\n",
       "      <th></th>\n",
       "      <th>date</th>\n",
       "      <th>ip</th>\n",
       "      <th>entry_point</th>\n",
       "      <th>R1</th>\n",
       "      <th>R2</th>\n",
       "      <th>R3</th>\n",
       "      <th>R4</th>\n",
       "      <th>R5</th>\n",
       "      <th>R6</th>\n",
       "      <th>R7</th>\n",
       "      <th>...</th>\n",
       "      <th>R55</th>\n",
       "      <th>R56</th>\n",
       "      <th>R57</th>\n",
       "      <th>R58</th>\n",
       "      <th>R59</th>\n",
       "      <th>R60</th>\n",
       "      <th>R61</th>\n",
       "      <th>R62</th>\n",
       "      <th>R63</th>\n",
       "      <th>end_point</th>\n",
       "    </tr>\n",
       "  </thead>\n",
       "  <tbody>\n",
       "    <tr>\n",
       "      <th>0</th>\n",
       "      <td>07/Sep/1996:12:17:05</td>\n",
       "      <td>www-c09.proxy.gnn.com</td>\n",
       "      <td>0</td>\n",
       "      <td>560L</td>\n",
       "      <td>110L</td>\n",
       "      <td>110</td>\n",
       "      <td>NaN</td>\n",
       "      <td>NaN</td>\n",
       "      <td>NaN</td>\n",
       "      <td>NaN</td>\n",
       "      <td>...</td>\n",
       "      <td>NaN</td>\n",
       "      <td>NaN</td>\n",
       "      <td>NaN</td>\n",
       "      <td>NaN</td>\n",
       "      <td>NaN</td>\n",
       "      <td>NaN</td>\n",
       "      <td>NaN</td>\n",
       "      <td>NaN</td>\n",
       "      <td>NaN</td>\n",
       "      <td>110</td>\n",
       "    </tr>\n",
       "    <tr>\n",
       "      <th>185</th>\n",
       "      <td>07/Sep/1996:12:18:11</td>\n",
       "      <td>www-c09.proxy.gnn.com</td>\n",
       "      <td>0</td>\n",
       "      <td>560L</td>\n",
       "      <td>110L</td>\n",
       "      <td>110L</td>\n",
       "      <td>110L</td>\n",
       "      <td>110</td>\n",
       "      <td>NaN</td>\n",
       "      <td>NaN</td>\n",
       "      <td>...</td>\n",
       "      <td>NaN</td>\n",
       "      <td>NaN</td>\n",
       "      <td>NaN</td>\n",
       "      <td>NaN</td>\n",
       "      <td>NaN</td>\n",
       "      <td>NaN</td>\n",
       "      <td>NaN</td>\n",
       "      <td>NaN</td>\n",
       "      <td>NaN</td>\n",
       "      <td>110</td>\n",
       "    </tr>\n",
       "  </tbody>\n",
       "</table>\n",
       "<p>2 rows × 67 columns</p>\n",
       "</div>"
      ],
      "text/plain": [
       "                      date                     ip entry_point    R1    R2  \\\n",
       "0    07/Sep/1996:12:17:05   www-c09.proxy.gnn.com           0  560L  110L   \n",
       "185  07/Sep/1996:12:18:11   www-c09.proxy.gnn.com           0  560L  110L   \n",
       "\n",
       "       R3    R4   R5   R6   R7  ...  R55  R56  R57  R58  R59 R60 R61 R62 R63  \\\n",
       "0     110   NaN  NaN  NaN  NaN  ...  NaN  NaN  NaN  NaN  NaN NaN NaN NaN NaN   \n",
       "185  110L  110L  110  NaN  NaN  ...  NaN  NaN  NaN  NaN  NaN NaN NaN NaN NaN   \n",
       "\n",
       "    end_point  \n",
       "0         110  \n",
       "185       110  \n",
       "\n",
       "[2 rows x 67 columns]"
      ]
     },
     "execution_count": 75,
     "metadata": {},
     "output_type": "execute_result"
    }
   ],
   "source": [
    "# vaildate one record from the session data. For example, let us look at the first row in session.1996-Q3\n",
    "interactions[interactions['ip']=='www-c09.proxy.gnn.com']"
   ]
  },
  {
   "cell_type": "markdown",
   "metadata": {},
   "source": [
    "### Analyze the sessions data"
   ]
  },
  {
   "cell_type": "code",
   "execution_count": 76,
   "metadata": {},
   "outputs": [
    {
     "data": {
      "text/plain": [
       "Index(['date', 'ip', 'entry_point', 'R1', 'R2', 'R3', 'R4', 'R5', 'R6', 'R7',\n",
       "       'R8', 'R9', 'R10', 'R11', 'R12', 'R13', 'R14', 'R15', 'R16', 'R17',\n",
       "       'R18', 'R19', 'R20', 'R21', 'R22', 'R23', 'R24', 'R25', 'R26', 'R27',\n",
       "       'R28', 'R29', 'R30', 'R31', 'R32', 'R33', 'R34', 'R35', 'R36', 'R37',\n",
       "       'R38', 'R39', 'R40', 'R41', 'R42', 'R43', 'R44', 'R45', 'R46', 'R47',\n",
       "       'R48', 'R49', 'R50', 'R51', 'R52', 'R53', 'R54', 'R55', 'R56', 'R57',\n",
       "       'R58', 'R59', 'R60', 'R61', 'R62', 'R63', 'end_point'],\n",
       "      dtype='object')"
      ]
     },
     "execution_count": 76,
     "metadata": {},
     "output_type": "execute_result"
    }
   ],
   "source": [
    "interactions.columns"
   ]
  },
  {
   "cell_type": "code",
   "execution_count": 77,
   "metadata": {},
   "outputs": [],
   "source": [
    "import matplotlib.pyplot as plt\n",
    "import seaborn as sns"
   ]
  },
  {
   "cell_type": "markdown",
   "metadata": {},
   "source": [
    "### How many of the entry points are 0"
   ]
  },
  {
   "cell_type": "code",
   "execution_count": 78,
   "metadata": {},
   "outputs": [
    {
     "data": {
      "text/plain": [
       "0       44669\n",
       "227C       93\n",
       "230C       87\n",
       "197C       86\n",
       "180D       84\n",
       "        ...  \n",
       "271E        1\n",
       "233B        1\n",
       "471C        1\n",
       "216F        1\n",
       "188G        1\n",
       "Name: entry_point, Length: 929, dtype: int64"
      ]
     },
     "execution_count": 78,
     "metadata": {},
     "output_type": "execute_result"
    }
   ],
   "source": [
    "interactions['entry_point'].value_counts()"
   ]
  },
  {
   "cell_type": "markdown",
   "metadata": {},
   "source": [
    "It looks like most of the data points have an entry point that is not a restaurant name instead may have been a search criteria."
   ]
  },
  {
   "cell_type": "markdown",
   "metadata": {},
   "source": [
    "### How many of the end points are -1"
   ]
  },
  {
   "cell_type": "code",
   "execution_count": 79,
   "metadata": {},
   "outputs": [
    {
     "data": {
      "text/plain": [
       "-1      6090\n",
       "334      772\n",
       "17       725\n",
       "230      582\n",
       "166      579\n",
       "        ... \n",
       "628        1\n",
       "388        1\n",
       "125        1\n",
       "81         1\n",
       "17.0       1\n",
       "Name: end_point, Length: 629, dtype: int64"
      ]
     },
     "execution_count": 79,
     "metadata": {},
     "output_type": "execute_result"
    }
   ],
   "source": [
    "interactions['end_point'].value_counts()"
   ]
  },
  {
   "cell_type": "code",
   "execution_count": 80,
   "metadata": {
    "scrolled": true
   },
   "outputs": [
    {
     "data": {
      "text/plain": [
       "<matplotlib.axes._subplots.AxesSubplot at 0x112de7b90>"
      ]
     },
     "execution_count": 80,
     "metadata": {},
     "output_type": "execute_result"
    },
    {
     "data": {
      "image/png": "[encoded data removed]",
      "text/plain": [
       "<Figure size 432x288 with 1 Axes>"
      ]
     },
     "metadata": {
      "needs_background": "light"
     },
     "output_type": "display_data"
    }
   ],
   "source": [
    "sns.countplot(data=interactions, x='end_point')"
   ]
  },
  {
   "cell_type": "code",
   "execution_count": 81,
   "metadata": {},
   "outputs": [
    {
     "data": {
      "text/plain": [
       "12.018471739816862"
      ]
     },
     "execution_count": 81,
     "metadata": {},
     "output_type": "execute_result"
    }
   ],
   "source": [
    "unknown_endpoints = 6090/50672\n",
    "unknown_endpoints * 100"
   ]
  },
  {
   "cell_type": "markdown",
   "metadata": {},
   "source": [
    "Only 12% of the dataset does not have a known end point"
   ]
  },
  {
   "cell_type": "markdown",
   "metadata": {},
   "source": [
    "### What is the general pattern of navigation?"
   ]
  },
  {
   "cell_type": "code",
   "execution_count": 82,
   "metadata": {},
   "outputs": [],
   "source": [
    "import numpy as np\n",
    "interactions['list_of_non_nan_values'] = interactions.apply(lambda x :','.join(x.astype(str)),axis=1)"
   ]
  },
  {
   "cell_type": "code",
   "execution_count": 83,
   "metadata": {},
   "outputs": [
    {
     "data": {
      "text/plain": [
       "['07/Sep/1996:12:17:05 ,www-c09.proxy.gnn.com,0,560L,110L,110,nan,nan,nan,nan,nan,nan,nan,nan,nan,nan,nan,nan,nan,nan,nan,nan,nan,nan,nan,nan,nan,nan,nan,nan,nan,nan,nan,nan,nan,nan,nan,nan,nan,nan,nan,nan,nan,nan,nan,nan,nan,nan,nan,nan,nan,nan,nan,nan,nan,nan,nan,nan,nan,nan,nan,nan,nan,nan,nan,nan,110']"
      ]
     },
     "execution_count": 83,
     "metadata": {},
     "output_type": "execute_result"
    }
   ],
   "source": [
    "list_of_non_nan_values = []\n",
    "list_of_non_nan_values = list(interactions['list_of_non_nan_values'])\n",
    "list_of_non_nan_values[:1]"
   ]
  },
  {
   "cell_type": "code",
   "execution_count": 84,
   "metadata": {},
   "outputs": [],
   "source": [
    "import re\n",
    "navigations = []"
   ]
  },
  {
   "cell_type": "code",
   "execution_count": 85,
   "metadata": {
    "scrolled": true
   },
   "outputs": [],
   "source": [
    "for row in list_of_non_nan_values:\n",
    "    values = row.split(',')\n",
    "    values = [value for value in values if 'nan' not in value][3:-1]\n",
    "    navigation = [re.findall('[a-zA-Z]', value)[0] for value in values if re.findall('[a-zA-Z]', value)]\n",
    "    navigations.append(navigation)"
   ]
  },
  {
   "cell_type": "code",
   "execution_count": 86,
   "metadata": {},
   "outputs": [
    {
     "data": {
      "text/html": [
       "<div>\n",
       "<style scoped>\n",
       "    .dataframe tbody tr th:only-of-type {\n",
       "        vertical-align: middle;\n",
       "    }\n",
       "\n",
       "    .dataframe tbody tr th {\n",
       "        vertical-align: top;\n",
       "    }\n",
       "\n",
       "    .dataframe thead th {\n",
       "        text-align: right;\n",
       "    }\n",
       "</style>\n",
       "<table border=\"1\" class=\"dataframe\">\n",
       "  <thead>\n",
       "    <tr style=\"text-align: right;\">\n",
       "      <th></th>\n",
       "      <th>0</th>\n",
       "      <th>1</th>\n",
       "      <th>2</th>\n",
       "      <th>3</th>\n",
       "      <th>4</th>\n",
       "      <th>5</th>\n",
       "      <th>6</th>\n",
       "      <th>7</th>\n",
       "      <th>8</th>\n",
       "      <th>9</th>\n",
       "      <th>...</th>\n",
       "      <th>49</th>\n",
       "      <th>50</th>\n",
       "      <th>51</th>\n",
       "      <th>52</th>\n",
       "      <th>53</th>\n",
       "      <th>54</th>\n",
       "      <th>55</th>\n",
       "      <th>56</th>\n",
       "      <th>57</th>\n",
       "      <th>58</th>\n",
       "    </tr>\n",
       "  </thead>\n",
       "  <tbody>\n",
       "    <tr>\n",
       "      <th>0</th>\n",
       "      <td>L</td>\n",
       "      <td>L</td>\n",
       "      <td>None</td>\n",
       "      <td>None</td>\n",
       "      <td>None</td>\n",
       "      <td>None</td>\n",
       "      <td>None</td>\n",
       "      <td>None</td>\n",
       "      <td>None</td>\n",
       "      <td>None</td>\n",
       "      <td>...</td>\n",
       "      <td>None</td>\n",
       "      <td>None</td>\n",
       "      <td>None</td>\n",
       "      <td>None</td>\n",
       "      <td>None</td>\n",
       "      <td>None</td>\n",
       "      <td>None</td>\n",
       "      <td>None</td>\n",
       "      <td>None</td>\n",
       "      <td>None</td>\n",
       "    </tr>\n",
       "    <tr>\n",
       "      <th>1</th>\n",
       "      <td>L</td>\n",
       "      <td>L</td>\n",
       "      <td>None</td>\n",
       "      <td>None</td>\n",
       "      <td>None</td>\n",
       "      <td>None</td>\n",
       "      <td>None</td>\n",
       "      <td>None</td>\n",
       "      <td>None</td>\n",
       "      <td>None</td>\n",
       "      <td>...</td>\n",
       "      <td>None</td>\n",
       "      <td>None</td>\n",
       "      <td>None</td>\n",
       "      <td>None</td>\n",
       "      <td>None</td>\n",
       "      <td>None</td>\n",
       "      <td>None</td>\n",
       "      <td>None</td>\n",
       "      <td>None</td>\n",
       "      <td>None</td>\n",
       "    </tr>\n",
       "    <tr>\n",
       "      <th>2</th>\n",
       "      <td>N</td>\n",
       "      <td>N</td>\n",
       "      <td>P</td>\n",
       "      <td>P</td>\n",
       "      <td>None</td>\n",
       "      <td>None</td>\n",
       "      <td>None</td>\n",
       "      <td>None</td>\n",
       "      <td>None</td>\n",
       "      <td>None</td>\n",
       "      <td>...</td>\n",
       "      <td>None</td>\n",
       "      <td>None</td>\n",
       "      <td>None</td>\n",
       "      <td>None</td>\n",
       "      <td>None</td>\n",
       "      <td>None</td>\n",
       "      <td>None</td>\n",
       "      <td>None</td>\n",
       "      <td>None</td>\n",
       "      <td>None</td>\n",
       "    </tr>\n",
       "    <tr>\n",
       "      <th>3</th>\n",
       "      <td>L</td>\n",
       "      <td>L</td>\n",
       "      <td>None</td>\n",
       "      <td>None</td>\n",
       "      <td>None</td>\n",
       "      <td>None</td>\n",
       "      <td>None</td>\n",
       "      <td>None</td>\n",
       "      <td>None</td>\n",
       "      <td>None</td>\n",
       "      <td>...</td>\n",
       "      <td>None</td>\n",
       "      <td>None</td>\n",
       "      <td>None</td>\n",
       "      <td>None</td>\n",
       "      <td>None</td>\n",
       "      <td>None</td>\n",
       "      <td>None</td>\n",
       "      <td>None</td>\n",
       "      <td>None</td>\n",
       "      <td>None</td>\n",
       "    </tr>\n",
       "    <tr>\n",
       "      <th>4</th>\n",
       "      <td>M</td>\n",
       "      <td>M</td>\n",
       "      <td>L</td>\n",
       "      <td>L</td>\n",
       "      <td>None</td>\n",
       "      <td>None</td>\n",
       "      <td>None</td>\n",
       "      <td>None</td>\n",
       "      <td>None</td>\n",
       "      <td>None</td>\n",
       "      <td>...</td>\n",
       "      <td>None</td>\n",
       "      <td>None</td>\n",
       "      <td>None</td>\n",
       "      <td>None</td>\n",
       "      <td>None</td>\n",
       "      <td>None</td>\n",
       "      <td>None</td>\n",
       "      <td>None</td>\n",
       "      <td>None</td>\n",
       "      <td>None</td>\n",
       "    </tr>\n",
       "  </tbody>\n",
       "</table>\n",
       "<p>5 rows × 59 columns</p>\n",
       "</div>"
      ],
      "text/plain": [
       "  0  1     2     3     4     5     6     7     8     9   ...    49    50  \\\n",
       "0  L  L  None  None  None  None  None  None  None  None  ...  None  None   \n",
       "1  L  L  None  None  None  None  None  None  None  None  ...  None  None   \n",
       "2  N  N     P     P  None  None  None  None  None  None  ...  None  None   \n",
       "3  L  L  None  None  None  None  None  None  None  None  ...  None  None   \n",
       "4  M  M     L     L  None  None  None  None  None  None  ...  None  None   \n",
       "\n",
       "     51    52    53    54    55    56    57    58  \n",
       "0  None  None  None  None  None  None  None  None  \n",
       "1  None  None  None  None  None  None  None  None  \n",
       "2  None  None  None  None  None  None  None  None  \n",
       "3  None  None  None  None  None  None  None  None  \n",
       "4  None  None  None  None  None  None  None  None  \n",
       "\n",
       "[5 rows x 59 columns]"
      ]
     },
     "execution_count": 86,
     "metadata": {},
     "output_type": "execute_result"
    }
   ],
   "source": [
    "# create a table for each user's interaction. Users are the index and start from 0\n",
    "navigations = pd.DataFrame.from_records(navigations)\n",
    "navigations.head()"
   ]
  },
  {
   "cell_type": "code",
   "execution_count": 87,
   "metadata": {},
   "outputs": [
    {
     "data": {
      "image/png": "[encoded data removed]",
      "text/plain": [
       "<Figure size 1440x595.44 with 1 Axes>"
      ]
     },
     "metadata": {
      "needs_background": "light"
     },
     "output_type": "display_data"
    }
   ],
   "source": [
    "sns.countplot(x=\"variable\", hue=\"value\", data=pd.melt(navigations))\n",
    "plt.gcf().set_size_inches(20, 8.27)\n",
    "plt.show()"
   ]
  },
  {
   "cell_type": "markdown",
   "metadata": {},
   "source": [
    "It looks like there is a long tail after 20 interactions. So we will limit the data to 20 interactions"
   ]
  },
  {
   "cell_type": "code",
   "execution_count": 88,
   "metadata": {},
   "outputs": [],
   "source": [
    "navigations.drop([i for i in range(20, len(navigations.columns))], axis=1, inplace=True)"
   ]
  },
  {
   "cell_type": "code",
   "execution_count": 89,
   "metadata": {},
   "outputs": [
    {
     "data": {
      "image/png": "[encoded data removed]",
      "text/plain": [
       "<Figure size 1440x595.44 with 1 Axes>"
      ]
     },
     "metadata": {
      "needs_background": "light"
     },
     "output_type": "display_data"
    }
   ],
   "source": [
    "sns.countplot(x=\"variable\", hue=\"value\", data=pd.melt(navigations))\n",
    "plt.gcf().set_size_inches(20, 8.27)\n",
    "plt.show()"
   ]
  },
  {
   "cell_type": "markdown",
   "metadata": {},
   "source": [
    "The naviagtion behavior of people is mostly browsing, followed by seeing nicer restaurants. It is interesting that people search for nicer resturants more than cheaper restaurants."
   ]
  },
  {
   "cell_type": "markdown",
   "metadata": {},
   "source": [
    "### Can we identify segments of customers from the interactions data?"
   ]
  },
  {
   "cell_type": "code",
   "execution_count": 90,
   "metadata": {},
   "outputs": [
    {
     "data": {
      "text/html": [
       "<div>\n",
       "<style scoped>\n",
       "    .dataframe tbody tr th:only-of-type {\n",
       "        vertical-align: middle;\n",
       "    }\n",
       "\n",
       "    .dataframe tbody tr th {\n",
       "        vertical-align: top;\n",
       "    }\n",
       "\n",
       "    .dataframe thead th {\n",
       "        text-align: right;\n",
       "    }\n",
       "</style>\n",
       "<table border=\"1\" class=\"dataframe\">\n",
       "  <thead>\n",
       "    <tr style=\"text-align: right;\">\n",
       "      <th></th>\n",
       "      <th>0</th>\n",
       "      <th>1</th>\n",
       "      <th>2</th>\n",
       "      <th>3</th>\n",
       "      <th>4</th>\n",
       "      <th>5</th>\n",
       "      <th>6</th>\n",
       "      <th>7</th>\n",
       "      <th>8</th>\n",
       "      <th>9</th>\n",
       "      <th>10</th>\n",
       "      <th>11</th>\n",
       "      <th>12</th>\n",
       "      <th>13</th>\n",
       "      <th>14</th>\n",
       "      <th>15</th>\n",
       "      <th>16</th>\n",
       "      <th>17</th>\n",
       "      <th>18</th>\n",
       "      <th>19</th>\n",
       "    </tr>\n",
       "  </thead>\n",
       "  <tbody>\n",
       "    <tr>\n",
       "      <th>0</th>\n",
       "      <td>1</td>\n",
       "      <td>1</td>\n",
       "      <td>0</td>\n",
       "      <td>0</td>\n",
       "      <td>0</td>\n",
       "      <td>0</td>\n",
       "      <td>0</td>\n",
       "      <td>0</td>\n",
       "      <td>0</td>\n",
       "      <td>0</td>\n",
       "      <td>0</td>\n",
       "      <td>0</td>\n",
       "      <td>0</td>\n",
       "      <td>0</td>\n",
       "      <td>0</td>\n",
       "      <td>0</td>\n",
       "      <td>0</td>\n",
       "      <td>0</td>\n",
       "      <td>0</td>\n",
       "      <td>0</td>\n",
       "    </tr>\n",
       "    <tr>\n",
       "      <th>1</th>\n",
       "      <td>1</td>\n",
       "      <td>1</td>\n",
       "      <td>0</td>\n",
       "      <td>0</td>\n",
       "      <td>0</td>\n",
       "      <td>0</td>\n",
       "      <td>0</td>\n",
       "      <td>0</td>\n",
       "      <td>0</td>\n",
       "      <td>0</td>\n",
       "      <td>0</td>\n",
       "      <td>0</td>\n",
       "      <td>0</td>\n",
       "      <td>0</td>\n",
       "      <td>0</td>\n",
       "      <td>0</td>\n",
       "      <td>0</td>\n",
       "      <td>0</td>\n",
       "      <td>0</td>\n",
       "      <td>0</td>\n",
       "    </tr>\n",
       "    <tr>\n",
       "      <th>2</th>\n",
       "      <td>3</td>\n",
       "      <td>3</td>\n",
       "      <td>5</td>\n",
       "      <td>5</td>\n",
       "      <td>0</td>\n",
       "      <td>0</td>\n",
       "      <td>0</td>\n",
       "      <td>0</td>\n",
       "      <td>0</td>\n",
       "      <td>0</td>\n",
       "      <td>0</td>\n",
       "      <td>0</td>\n",
       "      <td>0</td>\n",
       "      <td>0</td>\n",
       "      <td>0</td>\n",
       "      <td>0</td>\n",
       "      <td>0</td>\n",
       "      <td>0</td>\n",
       "      <td>0</td>\n",
       "      <td>0</td>\n",
       "    </tr>\n",
       "    <tr>\n",
       "      <th>3</th>\n",
       "      <td>1</td>\n",
       "      <td>1</td>\n",
       "      <td>0</td>\n",
       "      <td>0</td>\n",
       "      <td>0</td>\n",
       "      <td>0</td>\n",
       "      <td>0</td>\n",
       "      <td>0</td>\n",
       "      <td>0</td>\n",
       "      <td>0</td>\n",
       "      <td>0</td>\n",
       "      <td>0</td>\n",
       "      <td>0</td>\n",
       "      <td>0</td>\n",
       "      <td>0</td>\n",
       "      <td>0</td>\n",
       "      <td>0</td>\n",
       "      <td>0</td>\n",
       "      <td>0</td>\n",
       "      <td>0</td>\n",
       "    </tr>\n",
       "    <tr>\n",
       "      <th>4</th>\n",
       "      <td>2</td>\n",
       "      <td>2</td>\n",
       "      <td>1</td>\n",
       "      <td>1</td>\n",
       "      <td>0</td>\n",
       "      <td>0</td>\n",
       "      <td>0</td>\n",
       "      <td>0</td>\n",
       "      <td>0</td>\n",
       "      <td>0</td>\n",
       "      <td>0</td>\n",
       "      <td>0</td>\n",
       "      <td>0</td>\n",
       "      <td>0</td>\n",
       "      <td>0</td>\n",
       "      <td>0</td>\n",
       "      <td>0</td>\n",
       "      <td>0</td>\n",
       "      <td>0</td>\n",
       "      <td>0</td>\n",
       "    </tr>\n",
       "  </tbody>\n",
       "</table>\n",
       "</div>"
      ],
      "text/plain": [
       "   0   1   2   3   4   5   6   7   8   9   10  11  12  13  14  15  16  17  18  \\\n",
       "0   1   1   0   0   0   0   0   0   0   0   0   0   0   0   0   0   0   0   0   \n",
       "1   1   1   0   0   0   0   0   0   0   0   0   0   0   0   0   0   0   0   0   \n",
       "2   3   3   5   5   0   0   0   0   0   0   0   0   0   0   0   0   0   0   0   \n",
       "3   1   1   0   0   0   0   0   0   0   0   0   0   0   0   0   0   0   0   0   \n",
       "4   2   2   1   1   0   0   0   0   0   0   0   0   0   0   0   0   0   0   0   \n",
       "\n",
       "   19  \n",
       "0   0  \n",
       "1   0  \n",
       "2   0  \n",
       "3   0  \n",
       "4   0  "
      ]
     },
     "execution_count": 90,
     "metadata": {},
     "output_type": "execute_result"
    }
   ],
   "source": [
    "# Let us consider the following mapping\n",
    "mapping = {\n",
    "    'L': 1,\n",
    "    'M': 2,\n",
    "    'N': 3,\n",
    "    'O': 4,\n",
    "    'P': 5,\n",
    "    'Q': 6,\n",
    "    'R': 7,\n",
    "    'S': 8,\n",
    "    'T': 9    \n",
    "}\n",
    "\n",
    "navigations = navigations.replace(mapping, regex=True)\n",
    "navigations = navigations.fillna(0)\n",
    "navigations.head()"
   ]
  },
  {
   "cell_type": "markdown",
   "metadata": {},
   "source": [
    "This dataset can be clustered to find out clusters in which customers fall and find out the segment for the customer just in terms of their navigational pattern."
   ]
  },
  {
   "cell_type": "markdown",
   "metadata": {},
   "source": [
    "### Load the restaurant data"
   ]
  },
  {
   "cell_type": "code",
   "execution_count": 91,
   "metadata": {},
   "outputs": [],
   "source": [
    "dir_name = os.getcwd()\n",
    "folder_name = 'data'\n",
    "files = os.listdir(os.path.join(dir_name, folder_name))"
   ]
  },
  {
   "cell_type": "code",
   "execution_count": 92,
   "metadata": {},
   "outputs": [
    {
     "name": "stdout",
     "output_type": "stream",
     "text": [
      "  restaurant_id           restaurant_name  \\\n",
      "0             0                Moti Mahal   \n",
      "1             1                   Village   \n",
      "2             2  Millrose Brewing Company   \n",
      "3             3             Dover Straits   \n",
      "4             4       Eat Your Hearts Out   \n",
      "\n",
      "                                 restaurant_features  \n",
      "0                214 035 149 021 117 075 204 051 163  \n",
      "1  026 249 174 004 132 249 198 191 192 125 075 20...  \n",
      "2  137 249 194 215 213 174 249 191 192 008 075 20...  \n",
      "3                137 190 174 249 212 075 205 053 165  \n",
      "4    214 249 249 197 111 025 025 112 075 205 053 164  \n",
      "4434\n",
      "Index(['restaurant_id', 'restaurant_name', 'restaurant_features'], dtype='object')\n"
     ]
    }
   ],
   "source": [
    "columns = ['restaurant_id', 'restaurant_name', 'restaurant_features']\n",
    "file_paths = [os.path.join(dir_name, folder_name, file) for file in files]\n",
    "df_from_each_file = (pd.read_csv(f, sep='\\t', names=columns) for f in file_paths)\n",
    "restaurants = pd.concat(df_from_each_file, ignore_index=True)\n",
    "print(restaurants.head())\n",
    "print(len(restaurants))\n",
    "print(restaurants.columns)"
   ]
  },
  {
   "cell_type": "code",
   "execution_count": 93,
   "metadata": {},
   "outputs": [
    {
     "data": {
      "text/plain": [
       "1217"
      ]
     },
     "execution_count": 93,
     "metadata": {},
     "output_type": "execute_result"
    }
   ],
   "source": [
    "# get all the unique restaurant ids\n",
    "len(restaurants['restaurant_id'].unique())"
   ]
  },
  {
   "cell_type": "markdown",
   "metadata": {},
   "source": [
    "The restaurant ids repeat and we would like to know if this would affect the interactions data."
   ]
  },
  {
   "cell_type": "code",
   "execution_count": 94,
   "metadata": {},
   "outputs": [
    {
     "data": {
      "text/html": [
       "<div>\n",
       "<style scoped>\n",
       "    .dataframe tbody tr th:only-of-type {\n",
       "        vertical-align: middle;\n",
       "    }\n",
       "\n",
       "    .dataframe tbody tr th {\n",
       "        vertical-align: top;\n",
       "    }\n",
       "\n",
       "    .dataframe thead th {\n",
       "        text-align: right;\n",
       "    }\n",
       "</style>\n",
       "<table border=\"1\" class=\"dataframe\">\n",
       "  <thead>\n",
       "    <tr style=\"text-align: right;\">\n",
       "      <th></th>\n",
       "      <th>date</th>\n",
       "      <th>ip</th>\n",
       "      <th>entry_point</th>\n",
       "      <th>R1</th>\n",
       "      <th>R2</th>\n",
       "      <th>R3</th>\n",
       "      <th>R4</th>\n",
       "      <th>R5</th>\n",
       "      <th>R6</th>\n",
       "      <th>R7</th>\n",
       "      <th>...</th>\n",
       "      <th>R56</th>\n",
       "      <th>R57</th>\n",
       "      <th>R58</th>\n",
       "      <th>R59</th>\n",
       "      <th>R60</th>\n",
       "      <th>R61</th>\n",
       "      <th>R62</th>\n",
       "      <th>R63</th>\n",
       "      <th>end_point</th>\n",
       "      <th>list_of_non_nan_values</th>\n",
       "    </tr>\n",
       "  </thead>\n",
       "  <tbody>\n",
       "    <tr>\n",
       "      <th>0</th>\n",
       "      <td>07/Sep/1996:12:17:05</td>\n",
       "      <td>www-c09.proxy.gnn.com</td>\n",
       "      <td>0</td>\n",
       "      <td>560L</td>\n",
       "      <td>110L</td>\n",
       "      <td>110</td>\n",
       "      <td>NaN</td>\n",
       "      <td>NaN</td>\n",
       "      <td>NaN</td>\n",
       "      <td>NaN</td>\n",
       "      <td>...</td>\n",
       "      <td>NaN</td>\n",
       "      <td>NaN</td>\n",
       "      <td>NaN</td>\n",
       "      <td>NaN</td>\n",
       "      <td>NaN</td>\n",
       "      <td>NaN</td>\n",
       "      <td>NaN</td>\n",
       "      <td>NaN</td>\n",
       "      <td>110</td>\n",
       "      <td>07/Sep/1996:12:17:05 ,www-c09.proxy.gnn.com,0,...</td>\n",
       "    </tr>\n",
       "    <tr>\n",
       "      <th>1</th>\n",
       "      <td>07/Sep/1996:12:21:57</td>\n",
       "      <td>foley.ripco.com</td>\n",
       "      <td>0</td>\n",
       "      <td>423L</td>\n",
       "      <td>77L</td>\n",
       "      <td>77</td>\n",
       "      <td>NaN</td>\n",
       "      <td>NaN</td>\n",
       "      <td>NaN</td>\n",
       "      <td>NaN</td>\n",
       "      <td>...</td>\n",
       "      <td>NaN</td>\n",
       "      <td>NaN</td>\n",
       "      <td>NaN</td>\n",
       "      <td>NaN</td>\n",
       "      <td>NaN</td>\n",
       "      <td>NaN</td>\n",
       "      <td>NaN</td>\n",
       "      <td>NaN</td>\n",
       "      <td>77</td>\n",
       "      <td>07/Sep/1996:12:21:57 ,foley.ripco.com,0,423L,7...</td>\n",
       "    </tr>\n",
       "    <tr>\n",
       "      <th>2</th>\n",
       "      <td>07/Sep/1996:12:23:36</td>\n",
       "      <td>foley.ripco.com</td>\n",
       "      <td>0</td>\n",
       "      <td>633N</td>\n",
       "      <td>633N</td>\n",
       "      <td>159P</td>\n",
       "      <td>159P</td>\n",
       "      <td>475</td>\n",
       "      <td>NaN</td>\n",
       "      <td>NaN</td>\n",
       "      <td>...</td>\n",
       "      <td>NaN</td>\n",
       "      <td>NaN</td>\n",
       "      <td>NaN</td>\n",
       "      <td>NaN</td>\n",
       "      <td>NaN</td>\n",
       "      <td>NaN</td>\n",
       "      <td>NaN</td>\n",
       "      <td>NaN</td>\n",
       "      <td>475</td>\n",
       "      <td>07/Sep/1996:12:23:36 ,foley.ripco.com,0,633N,6...</td>\n",
       "    </tr>\n",
       "    <tr>\n",
       "      <th>3</th>\n",
       "      <td>07/Sep/1996:12:25:14</td>\n",
       "      <td>foley.ripco.com</td>\n",
       "      <td>0</td>\n",
       "      <td>441L</td>\n",
       "      <td>537L</td>\n",
       "      <td>537</td>\n",
       "      <td>NaN</td>\n",
       "      <td>NaN</td>\n",
       "      <td>NaN</td>\n",
       "      <td>NaN</td>\n",
       "      <td>...</td>\n",
       "      <td>NaN</td>\n",
       "      <td>NaN</td>\n",
       "      <td>NaN</td>\n",
       "      <td>NaN</td>\n",
       "      <td>NaN</td>\n",
       "      <td>NaN</td>\n",
       "      <td>NaN</td>\n",
       "      <td>NaN</td>\n",
       "      <td>537</td>\n",
       "      <td>07/Sep/1996:12:25:14 ,foley.ripco.com,0,441L,5...</td>\n",
       "    </tr>\n",
       "    <tr>\n",
       "      <th>4</th>\n",
       "      <td>07/Sep/1996:15:18:38</td>\n",
       "      <td>pslip103d.egr-ri.ids.net</td>\n",
       "      <td>0</td>\n",
       "      <td>90M</td>\n",
       "      <td>90M</td>\n",
       "      <td>76L</td>\n",
       "      <td>476L</td>\n",
       "      <td>476</td>\n",
       "      <td>NaN</td>\n",
       "      <td>NaN</td>\n",
       "      <td>...</td>\n",
       "      <td>NaN</td>\n",
       "      <td>NaN</td>\n",
       "      <td>NaN</td>\n",
       "      <td>NaN</td>\n",
       "      <td>NaN</td>\n",
       "      <td>NaN</td>\n",
       "      <td>NaN</td>\n",
       "      <td>NaN</td>\n",
       "      <td>476</td>\n",
       "      <td>07/Sep/1996:15:18:38 ,pslip103d.egr-ri.ids.net...</td>\n",
       "    </tr>\n",
       "  </tbody>\n",
       "</table>\n",
       "<p>5 rows × 68 columns</p>\n",
       "</div>"
      ],
      "text/plain": [
       "                    date                        ip entry_point    R1    R2  \\\n",
       "0  07/Sep/1996:12:17:05      www-c09.proxy.gnn.com           0  560L  110L   \n",
       "1  07/Sep/1996:12:21:57            foley.ripco.com           0  423L   77L   \n",
       "2  07/Sep/1996:12:23:36            foley.ripco.com           0  633N  633N   \n",
       "3  07/Sep/1996:12:25:14            foley.ripco.com           0  441L  537L   \n",
       "4  07/Sep/1996:15:18:38   pslip103d.egr-ri.ids.net           0   90M   90M   \n",
       "\n",
       "     R3    R4   R5   R6   R7  ...  R56  R57  R58  R59 R60 R61 R62 R63  \\\n",
       "0   110   NaN  NaN  NaN  NaN  ...  NaN  NaN  NaN  NaN NaN NaN NaN NaN   \n",
       "1    77   NaN  NaN  NaN  NaN  ...  NaN  NaN  NaN  NaN NaN NaN NaN NaN   \n",
       "2  159P  159P  475  NaN  NaN  ...  NaN  NaN  NaN  NaN NaN NaN NaN NaN   \n",
       "3   537   NaN  NaN  NaN  NaN  ...  NaN  NaN  NaN  NaN NaN NaN NaN NaN   \n",
       "4   76L  476L  476  NaN  NaN  ...  NaN  NaN  NaN  NaN NaN NaN NaN NaN   \n",
       "\n",
       "  end_point                             list_of_non_nan_values  \n",
       "0       110  07/Sep/1996:12:17:05 ,www-c09.proxy.gnn.com,0,...  \n",
       "1        77  07/Sep/1996:12:21:57 ,foley.ripco.com,0,423L,7...  \n",
       "2       475  07/Sep/1996:12:23:36 ,foley.ripco.com,0,633N,6...  \n",
       "3       537  07/Sep/1996:12:25:14 ,foley.ripco.com,0,441L,5...  \n",
       "4       476  07/Sep/1996:15:18:38 ,pslip103d.egr-ri.ids.net...  \n",
       "\n",
       "[5 rows x 68 columns]"
      ]
     },
     "execution_count": 94,
     "metadata": {},
     "output_type": "execute_result"
    }
   ],
   "source": [
    "# The interactions data looks like this\n",
    "interactions.head()"
   ]
  },
  {
   "cell_type": "markdown",
   "metadata": {},
   "source": [
    "We take a look at the the restaurants in the first row of the interactions data to see if we can match it to a restaurant."
   ]
  },
  {
   "cell_type": "code",
   "execution_count": 95,
   "metadata": {},
   "outputs": [
    {
     "data": {
      "text/html": [
       "<div>\n",
       "<style scoped>\n",
       "    .dataframe tbody tr th:only-of-type {\n",
       "        vertical-align: middle;\n",
       "    }\n",
       "\n",
       "    .dataframe tbody tr th {\n",
       "        vertical-align: top;\n",
       "    }\n",
       "\n",
       "    .dataframe thead th {\n",
       "        text-align: right;\n",
       "    }\n",
       "</style>\n",
       "<table border=\"1\" class=\"dataframe\">\n",
       "  <thead>\n",
       "    <tr style=\"text-align: right;\">\n",
       "      <th></th>\n",
       "      <th>restaurant_id</th>\n",
       "      <th>restaurant_name</th>\n",
       "      <th>restaurant_features</th>\n",
       "    </tr>\n",
       "  </thead>\n",
       "  <tbody>\n",
       "    <tr>\n",
       "      <th>560</th>\n",
       "      <td>560</td>\n",
       "      <td>Taylor Brewing Company</td>\n",
       "      <td>137 194 215 213 174 184 008 074 204 053 163</td>\n",
       "    </tr>\n",
       "    <tr>\n",
       "      <th>1940</th>\n",
       "      <td>560</td>\n",
       "      <td>Petes' Place</td>\n",
       "      <td>083 229 106 074 204 052 164</td>\n",
       "    </tr>\n",
       "  </tbody>\n",
       "</table>\n",
       "</div>"
      ],
      "text/plain": [
       "     restaurant_id         restaurant_name  \\\n",
       "560            560  Taylor Brewing Company   \n",
       "1940           560            Petes' Place   \n",
       "\n",
       "                              restaurant_features  \n",
       "560   137 194 215 213 174 184 008 074 204 053 163  \n",
       "1940                  083 229 106 074 204 052 164  "
      ]
     },
     "execution_count": 95,
     "metadata": {},
     "output_type": "execute_result"
    }
   ],
   "source": [
    "restaurants[restaurants['restaurant_id'] == 560]"
   ]
  },
  {
   "cell_type": "code",
   "execution_count": 96,
   "metadata": {},
   "outputs": [
    {
     "data": {
      "text/html": [
       "<div>\n",
       "<style scoped>\n",
       "    .dataframe tbody tr th:only-of-type {\n",
       "        vertical-align: middle;\n",
       "    }\n",
       "\n",
       "    .dataframe tbody tr th {\n",
       "        vertical-align: top;\n",
       "    }\n",
       "\n",
       "    .dataframe thead th {\n",
       "        text-align: right;\n",
       "    }\n",
       "</style>\n",
       "<table border=\"1\" class=\"dataframe\">\n",
       "  <thead>\n",
       "    <tr style=\"text-align: right;\">\n",
       "      <th></th>\n",
       "      <th>restaurant_id</th>\n",
       "      <th>restaurant_name</th>\n",
       "      <th>restaurant_features</th>\n",
       "    </tr>\n",
       "  </thead>\n",
       "  <tbody>\n",
       "    <tr>\n",
       "      <th>110</th>\n",
       "      <td>110</td>\n",
       "      <td>Green Door Tavern</td>\n",
       "      <td>026 178 184 063 010 001 008 074 204 052 163</td>\n",
       "    </tr>\n",
       "    <tr>\n",
       "      <th>786</th>\n",
       "      <td>110</td>\n",
       "      <td>Piazza Rodeo</td>\n",
       "      <td>252 249 248 251 149 063 156 125 074 205 053 165</td>\n",
       "    </tr>\n",
       "    <tr>\n",
       "      <th>1233</th>\n",
       "      <td>110</td>\n",
       "      <td>Haute New Orleans</td>\n",
       "      <td>NaN</td>\n",
       "    </tr>\n",
       "    <tr>\n",
       "      <th>1490</th>\n",
       "      <td>110</td>\n",
       "      <td>Cafe Baci</td>\n",
       "      <td>242 125 075 205 052 166</td>\n",
       "    </tr>\n",
       "    <tr>\n",
       "      <th>2707</th>\n",
       "      <td>110</td>\n",
       "      <td>Hinode</td>\n",
       "      <td>254 253 250 150 174 128 075 205 053 164</td>\n",
       "    </tr>\n",
       "    <tr>\n",
       "      <th>3098</th>\n",
       "      <td>110</td>\n",
       "      <td>Eat Your Vegetables</td>\n",
       "      <td>253 231 150 174 111 071 036 229 005 112 243 07...</td>\n",
       "    </tr>\n",
       "    <tr>\n",
       "      <th>3365</th>\n",
       "      <td>110</td>\n",
       "      <td>Viet Restaurant</td>\n",
       "      <td>250 250 191 246 076 205 052 163</td>\n",
       "    </tr>\n",
       "    <tr>\n",
       "      <th>3803</th>\n",
       "      <td>110</td>\n",
       "      <td>CAMELLIA GRILL</td>\n",
       "      <td>253 086 231 157 158 102 132 010 083 156 046 18...</td>\n",
       "    </tr>\n",
       "    <tr>\n",
       "      <th>4130</th>\n",
       "      <td>110</td>\n",
       "      <td>Ristorante Ecco</td>\n",
       "      <td>123 124 076 205 053 166</td>\n",
       "    </tr>\n",
       "  </tbody>\n",
       "</table>\n",
       "</div>"
      ],
      "text/plain": [
       "     restaurant_id      restaurant_name  \\\n",
       "110            110    Green Door Tavern   \n",
       "786            110         Piazza Rodeo   \n",
       "1233           110    Haute New Orleans   \n",
       "1490           110            Cafe Baci   \n",
       "2707           110               Hinode   \n",
       "3098           110  Eat Your Vegetables   \n",
       "3365           110      Viet Restaurant   \n",
       "3803           110       CAMELLIA GRILL   \n",
       "4130           110      Ristorante Ecco   \n",
       "\n",
       "                                    restaurant_features  \n",
       "110         026 178 184 063 010 001 008 074 204 052 163  \n",
       "786     252 249 248 251 149 063 156 125 074 205 053 165  \n",
       "1233                                                NaN  \n",
       "1490                            242 125 075 205 052 166  \n",
       "2707            254 253 250 150 174 128 075 205 053 164  \n",
       "3098  253 231 150 174 111 071 036 229 005 112 243 07...  \n",
       "3365                    250 250 191 246 076 205 052 163  \n",
       "3803  253 086 231 157 158 102 132 010 083 156 046 18...  \n",
       "4130                            123 124 076 205 053 166  "
      ]
     },
     "execution_count": 96,
     "metadata": {},
     "output_type": "execute_result"
    }
   ],
   "source": [
    "restaurants[restaurants['restaurant_id'] == 110]"
   ]
  },
  {
   "cell_type": "markdown",
   "metadata": {},
   "source": [
    "It appears like we would need more information to know the restaurants that the customer navigated to."
   ]
  },
  {
   "cell_type": "markdown",
   "metadata": {},
   "source": [
    "### What to do next?"
   ]
  },
  {
   "cell_type": "markdown",
   "metadata": {},
   "source": [
    "1. How many interactions were there on a particular date (e.g. 07/Sep/1996)\n",
    "2. How many interactions were there on a particular day of the week. (Are there more interactions on a particular day of the week?)\n",
    "3. Is there a pattern with people who had more number of interactions? \n",
    "4. Segment users based on their navigation patterns. For e.g. browsers, people who like cheaper resturants first, people who like nice restaurants, people who like silent restaurants etc.\n",
    "  4.1 Based on this segment when the user comes to the system next we can find out what restaurant to recommend to them."
   ]
  }
 ],
 "metadata": {
  "kernelspec": {
   "display_name": "'Python Interactive'",
   "language": "python",
   "name": "35b4839f-0ea2-4804-ae1e-57e199b6e888"
  },
  "language_info": {
   "codemirror_mode": {
    "name": "ipython",
    "version": 3
   },
   "file_extension": ".py",
   "mimetype": "text/x-python",
   "name": "python",
   "nbconvert_exporter": "python",
   "pygments_lexer": "ipython3",
   "version": "3.7.4"
  }
 },
 "nbformat": 4,
 "nbformat_minor": 2
}
